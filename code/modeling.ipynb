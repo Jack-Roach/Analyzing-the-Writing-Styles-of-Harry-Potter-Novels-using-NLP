{
 "cells": [
  {
   "cell_type": "markdown",
   "id": "30ed0c10-44fe-47f3-b43f-a9b1e3ae0802",
   "metadata": {},
   "source": [
    "# Tokenization, Vectorization, and Modeling\n",
    "---"
   ]
  },
  {
   "cell_type": "markdown",
   "id": "7bc2939c-1ead-485a-8aca-eae98b5dcd5d",
   "metadata": {},
   "source": [
    "## 1) Imports"
   ]
  },
  {
   "cell_type": "code",
   "execution_count": 1,
   "id": "8cf8e2cb-7f6b-4c51-b3ae-bd8d3ad59e68",
   "metadata": {},
   "outputs": [],
   "source": [
    "#Basic Modules\n",
    "import numpy as np\n",
    "import pandas as pd\n",
    "import matplotlib.pyplot as plt\n",
    "import seaborn as sns\n",
    "\n",
    "#Importing Data\n",
    "import json\n",
    "\n",
    "#Vectorization\n",
    "import nltk\n",
    "from nltk.corpus import stopwords\n",
    "from gensim.models import Doc2Vec\n",
    "from gensim.models.doc2vec import TaggedDocument\n",
    "\n",
    "#Modeling\n",
    "from sklearn import utils\n",
    "from sklearn.svm import SVC\n",
    "from sklearn.tree import DecisionTreeClassifier\n",
    "from sklearn.neighbors import KNeighborsClassifier\n",
    "from sklearn.linear_model import LogisticRegression\n",
    "from sklearn.model_selection import train_test_split\n",
    "from sklearn.metrics import accuracy_score, f1_score, ConfusionMatrixDisplay\n",
    "from sklearn.ensemble import BaggingClassifier, RandomForestClassifier, AdaBoostClassifier, ExtraTreesClassifier\n",
    "from sklearn.naive_bayes import GaussianNB\n",
    "\n",
    "np.random.seed(42)"
   ]
  },
  {
   "cell_type": "markdown",
   "id": "c4481a40-9fb3-43e9-a18c-40e101819694",
   "metadata": {},
   "source": [
    "## 2) Reading in Chapter Data\n",
    "---"
   ]
  },
  {
   "cell_type": "code",
   "execution_count": 2,
   "id": "4b31edb0-db7b-42e3-a2f1-3616c3e0a0ab",
   "metadata": {},
   "outputs": [],
   "source": [
    "with open(\"../corpora/chapter_text.json\", \"r\") as json_file:\n",
    "  chapter_text = json.load(json_file)\n",
    "json_file.close()"
   ]
  },
  {
   "cell_type": "code",
   "execution_count": 3,
   "id": "553b0faa-b7cb-4e14-a563-04b72d85c21f",
   "metadata": {},
   "outputs": [
    {
     "data": {
      "text/plain": [
       "dict_keys(['1', '2', '3', '4', '5', '6', '7', '8', '9', '10', '11', '12', '13', '14', '15', '16', '17'])"
      ]
     },
     "execution_count": 3,
     "metadata": {},
     "output_type": "execute_result"
    }
   ],
   "source": [
    "#Inspecting imported data, keys have been converted to strings\n",
    "chapter_text['1'].keys()"
   ]
  },
  {
   "cell_type": "markdown",
   "id": "9b31673d-390b-4524-b2bf-9fcf6c15689c",
   "metadata": {},
   "source": [
    "#### Converting chapter text into a Data Frame"
   ]
  },
  {
   "cell_type": "code",
   "execution_count": 4,
   "id": "0ba29fc9-fb39-4e28-b0b4-a1327a992aec",
   "metadata": {},
   "outputs": [],
   "source": [
    "chapter_data = [\n",
    "    [book_num,chap,chapter_text[book_num][chap]]\n",
    "    for book_num in chapter_text\n",
    "    for chap in chapter_text[book_num]]\n",
    "chapter_df = pd.DataFrame(data=chapter_data,columns=['book_number','chapter_number','chapter_text'])"
   ]
  },
  {
   "cell_type": "code",
   "execution_count": 5,
   "id": "9a210366-2b24-4af9-a449-944e5de14f61",
   "metadata": {},
   "outputs": [
    {
     "data": {
      "text/plain": [
       "199"
      ]
     },
     "execution_count": 5,
     "metadata": {},
     "output_type": "execute_result"
    }
   ],
   "source": [
    "len(chapter_data)"
   ]
  },
  {
   "cell_type": "code",
   "execution_count": 6,
   "id": "fe90fe39-3dfc-4249-b39d-690feab57d12",
   "metadata": {},
   "outputs": [
    {
     "name": "stdout",
     "output_type": "stream",
     "text": [
      "<class 'pandas.core.frame.DataFrame'>\n",
      "RangeIndex: 199 entries, 0 to 198\n",
      "Data columns (total 3 columns):\n",
      " #   Column          Non-Null Count  Dtype \n",
      "---  ------          --------------  ----- \n",
      " 0   book_number     199 non-null    object\n",
      " 1   chapter_number  199 non-null    object\n",
      " 2   chapter_text    199 non-null    object\n",
      "dtypes: object(3)\n",
      "memory usage: 4.8+ KB\n"
     ]
    }
   ],
   "source": [
    "chapter_df.info()"
   ]
  },
  {
   "cell_type": "code",
   "execution_count": 7,
   "id": "3287445a-c88d-4a70-bfed-e90e6f4a440e",
   "metadata": {},
   "outputs": [],
   "source": [
    "#Converting book and chapter numbers back into integers\n",
    "chapter_df['book_number'] = chapter_df['book_number'].astype(int)\n",
    "chapter_df['chapter_number'] = chapter_df['chapter_number'].astype(int)"
   ]
  },
  {
   "cell_type": "code",
   "execution_count": 8,
   "id": "c0bfa4c7-d973-4975-a363-9b95a985af7c",
   "metadata": {},
   "outputs": [
    {
     "data": {
      "text/html": [
       "<div>\n",
       "<style scoped>\n",
       "    .dataframe tbody tr th:only-of-type {\n",
       "        vertical-align: middle;\n",
       "    }\n",
       "\n",
       "    .dataframe tbody tr th {\n",
       "        vertical-align: top;\n",
       "    }\n",
       "\n",
       "    .dataframe thead th {\n",
       "        text-align: right;\n",
       "    }\n",
       "</style>\n",
       "<table border=\"1\" class=\"dataframe\">\n",
       "  <thead>\n",
       "    <tr style=\"text-align: right;\">\n",
       "      <th></th>\n",
       "      <th>book_number</th>\n",
       "      <th>chapter_number</th>\n",
       "      <th>chapter_text</th>\n",
       "    </tr>\n",
       "  </thead>\n",
       "  <tbody>\n",
       "    <tr>\n",
       "      <th>0</th>\n",
       "      <td>1</td>\n",
       "      <td>1</td>\n",
       "      <td>Mr. and Mrs. Dursley, of number four, Privet D...</td>\n",
       "    </tr>\n",
       "    <tr>\n",
       "      <th>1</th>\n",
       "      <td>1</td>\n",
       "      <td>2</td>\n",
       "      <td>Nearly ten years had passed since the Dursleys...</td>\n",
       "    </tr>\n",
       "    <tr>\n",
       "      <th>2</th>\n",
       "      <td>1</td>\n",
       "      <td>3</td>\n",
       "      <td>The escape of the Brazilian boa constrictor ea...</td>\n",
       "    </tr>\n",
       "    <tr>\n",
       "      <th>3</th>\n",
       "      <td>1</td>\n",
       "      <td>4</td>\n",
       "      <td>BOOM. They knocked again. Dudley jerked awake....</td>\n",
       "    </tr>\n",
       "    <tr>\n",
       "      <th>4</th>\n",
       "      <td>1</td>\n",
       "      <td>5</td>\n",
       "      <td>Harry woke early the next morning. Although he...</td>\n",
       "    </tr>\n",
       "  </tbody>\n",
       "</table>\n",
       "</div>"
      ],
      "text/plain": [
       "   book_number  chapter_number  \\\n",
       "0            1               1   \n",
       "1            1               2   \n",
       "2            1               3   \n",
       "3            1               4   \n",
       "4            1               5   \n",
       "\n",
       "                                        chapter_text  \n",
       "0  Mr. and Mrs. Dursley, of number four, Privet D...  \n",
       "1  Nearly ten years had passed since the Dursleys...  \n",
       "2  The escape of the Brazilian boa constrictor ea...  \n",
       "3  BOOM. They knocked again. Dudley jerked awake....  \n",
       "4  Harry woke early the next morning. Although he...  "
      ]
     },
     "execution_count": 8,
     "metadata": {},
     "output_type": "execute_result"
    }
   ],
   "source": [
    "chapter_df.head()"
   ]
  },
  {
   "cell_type": "markdown",
   "id": "2c89ab22-91bc-4d7a-9884-b70686d8be22",
   "metadata": {},
   "source": [
    "## 3) Baseline Model\n",
    "---"
   ]
  },
  {
   "cell_type": "markdown",
   "id": "04c62d41-5f4b-48ca-b6c8-33ec9fadc736",
   "metadata": {},
   "source": [
    "### Establishing Null Model for Chapter Classification"
   ]
  },
  {
   "cell_type": "code",
   "execution_count": 9,
   "id": "1ed3844e-2dcb-4c54-b9ce-3a2f43b53bb1",
   "metadata": {},
   "outputs": [
    {
     "data": {
      "text/html": [
       "<div>\n",
       "<style scoped>\n",
       "    .dataframe tbody tr th:only-of-type {\n",
       "        vertical-align: middle;\n",
       "    }\n",
       "\n",
       "    .dataframe tbody tr th {\n",
       "        vertical-align: top;\n",
       "    }\n",
       "\n",
       "    .dataframe thead th {\n",
       "        text-align: right;\n",
       "    }\n",
       "</style>\n",
       "<table border=\"1\" class=\"dataframe\">\n",
       "  <thead>\n",
       "    <tr style=\"text-align: right;\">\n",
       "      <th></th>\n",
       "      <th>book_number</th>\n",
       "      <th>book_number</th>\n",
       "    </tr>\n",
       "  </thead>\n",
       "  <tbody>\n",
       "    <tr>\n",
       "      <th>5</th>\n",
       "      <td>38</td>\n",
       "      <td>0.190955</td>\n",
       "    </tr>\n",
       "    <tr>\n",
       "      <th>4</th>\n",
       "      <td>37</td>\n",
       "      <td>0.185930</td>\n",
       "    </tr>\n",
       "    <tr>\n",
       "      <th>7</th>\n",
       "      <td>37</td>\n",
       "      <td>0.185930</td>\n",
       "    </tr>\n",
       "    <tr>\n",
       "      <th>6</th>\n",
       "      <td>30</td>\n",
       "      <td>0.150754</td>\n",
       "    </tr>\n",
       "    <tr>\n",
       "      <th>3</th>\n",
       "      <td>22</td>\n",
       "      <td>0.110553</td>\n",
       "    </tr>\n",
       "    <tr>\n",
       "      <th>2</th>\n",
       "      <td>18</td>\n",
       "      <td>0.090452</td>\n",
       "    </tr>\n",
       "    <tr>\n",
       "      <th>1</th>\n",
       "      <td>17</td>\n",
       "      <td>0.085427</td>\n",
       "    </tr>\n",
       "  </tbody>\n",
       "</table>\n",
       "</div>"
      ],
      "text/plain": [
       "   book_number  book_number\n",
       "5           38     0.190955\n",
       "4           37     0.185930\n",
       "7           37     0.185930\n",
       "6           30     0.150754\n",
       "3           22     0.110553\n",
       "2           18     0.090452\n",
       "1           17     0.085427"
      ]
     },
     "execution_count": 9,
     "metadata": {},
     "output_type": "execute_result"
    }
   ],
   "source": [
    "pd.concat([chapter_df['book_number'].value_counts(normalize=False),\n",
    "           chapter_df['book_number'].value_counts(normalize=True)],axis=1)"
   ]
  },
  {
   "cell_type": "markdown",
   "id": "5d93040e-61c6-46d4-a22b-4c32ed48909c",
   "metadata": {},
   "source": [
    "#### The baseline accuracy is 19.1% with the model predicting book five every time."
   ]
  },
  {
   "cell_type": "markdown",
   "id": "a1660350-202d-42a0-a300-83d5b67d9570",
   "metadata": {},
   "source": [
    "## 4) NLP Model\n",
    "---"
   ]
  },
  {
   "cell_type": "markdown",
   "id": "5de54290-5d03-4298-9838-7a2cb51b3413",
   "metadata": {},
   "source": [
    "### Allocating training and test data"
   ]
  },
  {
   "cell_type": "code",
   "execution_count": 10,
   "id": "4d87a848-5db2-4a04-9126-c43341e1dcb3",
   "metadata": {},
   "outputs": [],
   "source": [
    "X = chapter_df['chapter_text']\n",
    "y = chapter_df['book_number']\n",
    "\n",
    "train, test = train_test_split(chapter_df, random_state=42, stratify=y)"
   ]
  },
  {
   "cell_type": "code",
   "execution_count": 11,
   "id": "e7661766-2026-462a-9e9a-82769494ca8d",
   "metadata": {},
   "outputs": [
    {
     "data": {
      "text/plain": [
       "(149, 50)"
      ]
     },
     "execution_count": 11,
     "metadata": {},
     "output_type": "execute_result"
    }
   ],
   "source": [
    "len(train),len(test)"
   ]
  },
  {
   "cell_type": "code",
   "execution_count": 12,
   "id": "24208ef8-5904-4cd2-ae11-3c579e5e6908",
   "metadata": {},
   "outputs": [
    {
     "data": {
      "text/plain": [
       "1168327"
      ]
     },
     "execution_count": 12,
     "metadata": {},
     "output_type": "execute_result"
    }
   ],
   "source": [
    "#Number of words total\n",
    "chapter_df['chapter_text'].apply(lambda x: len(x.split(' '))).sum()"
   ]
  },
  {
   "cell_type": "code",
   "execution_count": 13,
   "id": "15aa30d7-c7a8-4c87-baae-59794454d703",
   "metadata": {},
   "outputs": [],
   "source": [
    "#Making all text lowercase\n",
    "chapter_df['chapter_text'] = chapter_df['chapter_text'].str.lower()"
   ]
  },
  {
   "cell_type": "markdown",
   "id": "187f6408-b1e2-4ba0-8113-15be14791f6a",
   "metadata": {},
   "source": [
    "### Tokenizing"
   ]
  },
  {
   "cell_type": "code",
   "execution_count": 14,
   "id": "68a48422-4225-42b8-927d-019438c2cf7e",
   "metadata": {},
   "outputs": [],
   "source": [
    "#train, test = train_test_split(df, test_size=0.3, random_state=42)\n",
    "def tokenize_text(text):\n",
    "    \"\"\"\n",
    "    Takes a string and tokenizes every word inside of it\n",
    "    \n",
    "    Paramaters:\n",
    "    String text: A body of text \n",
    "    \n",
    "    Return: List object of tokenized words taken from text paramater\n",
    "    \"\"\"\n",
    "    tokens = []\n",
    "    for sentence in nltk.sent_tokenize(text):\n",
    "        for word in nltk.word_tokenize(sentence):\n",
    "            if len(word) < 2:\n",
    "                continue #Skips words smaller than 2 characters\n",
    "            tokens.append(word.lower())\n",
    "    return tokens"
   ]
  },
  {
   "cell_type": "markdown",
   "id": "90a31dc3-6dd8-48ce-ba96-d9d1c7209942",
   "metadata": {},
   "source": [
    "### Document (chapter) Tagging"
   ]
  },
  {
   "cell_type": "code",
   "execution_count": 15,
   "id": "742947b2-437c-4f31-90de-02c0f1619196",
   "metadata": {},
   "outputs": [],
   "source": [
    "#tokenizes and tags each chapter, assigning the chapters' book number as the tag\n",
    "train_tagged = train.apply(lambda r: TaggedDocument(words=tokenize_text(r['chapter_text']), tags=[r.book_number]), axis=1)\n",
    "test_tagged = test.apply(lambda r: TaggedDocument(words=tokenize_text(r['chapter_text']), tags=[r.book_number]), axis=1)"
   ]
  },
  {
   "cell_type": "code",
   "execution_count": 16,
   "id": "30605a3a-9ec5-46b0-81a7-9b716e40fae5",
   "metadata": {},
   "outputs": [
    {
     "data": {
      "text/plain": [
       "TaggedDocument(words=['you', \"'re\", 'wizard', 'harry'], tags=[1])"
      ]
     },
     "execution_count": 16,
     "metadata": {},
     "output_type": "execute_result"
    }
   ],
   "source": [
    "#Testing tokens\n",
    "tokens = tokenize_text(\"You're a wizard, Harry.\")\n",
    "TaggedDocument(words=tokens, tags=[1])"
   ]
  },
  {
   "cell_type": "markdown",
   "id": "1938bf0e-3402-4bb9-8b7b-1ad0a8bef927",
   "metadata": {},
   "source": [
    "### Building vocabulary for our Distributed Bag of Words Doc2Vec model"
   ]
  },
  {
   "cell_type": "code",
   "execution_count": 17,
   "id": "34d55d14-1078-48e9-b116-7a7d653597f6",
   "metadata": {},
   "outputs": [],
   "source": [
    "#Each document vector will have a dimensionality of 100\n",
    "dbow_model = Doc2Vec(dm=0, vector_size=100, negative=5, hs=0, min_count=2, sample = 0)\n",
    "dbow_model.build_vocab([x for x in train_tagged.values])"
   ]
  },
  {
   "cell_type": "markdown",
   "id": "91b8e956-3840-4e3b-af3d-9ea90bfbfb7c",
   "metadata": {},
   "source": [
    "### Training DBOW model with tagged training data"
   ]
  },
  {
   "cell_type": "code",
   "execution_count": 18,
   "id": "1107d911-2cc5-4824-a068-008efa643565",
   "metadata": {},
   "outputs": [
    {
     "name": "stdout",
     "output_type": "stream",
     "text": [
      "CPU times: user 39.5 s, sys: 437 ms, total: 40 s\n",
      "Wall time: 14.3 s\n"
     ]
    }
   ],
   "source": [
    "%%time\n",
    "#Training Time\n",
    "for epoch in range(30): #30 epochs\n",
    "    dbow_model.train(utils.shuffle([x for x in train_tagged.values]), total_examples=len(train_tagged.values), epochs=1)\n",
    "    dbow_model.alpha -= 0.002\n",
    "    dbow_model.min_alpha = dbow_model.alpha"
   ]
  },
  {
   "cell_type": "markdown",
   "id": "d99fe7e7-1fa7-44d1-b7fa-b3c1e075c446",
   "metadata": {},
   "source": [
    "#### Saving the Doc2Vec Model once it finishes training"
   ]
  },
  {
   "cell_type": "code",
   "execution_count": 19,
   "id": "251a532d-3e62-4122-8125-074c9cea00fd",
   "metadata": {},
   "outputs": [
    {
     "name": "stdout",
     "output_type": "stream",
     "text": [
      "Time Saved: 2022-6-14-02-34\n"
     ]
    }
   ],
   "source": [
    "#Giving the file name a minute-specific time-stamp to keep models unique and identifiable\n",
    "import time\n",
    "#Getting local time at the moment of cell execution\n",
    "timestamp = time.localtime()\n",
    "\n",
    "#Formatting Time\n",
    "hour = f'{timestamp[3]:02d}'\n",
    "minute = f'{timestamp[4]:02d}'\n",
    "timestamp = f'{timestamp[0]}-{timestamp[1]}-{timestamp[2]}-{hour}-{minute}'\n",
    "\n",
    "#Saving Model\n",
    "dbow_model.save(f\"../doc2vec_models/d2v_{timestamp}.model\")\n",
    "print(f\"Time Saved: {timestamp}\")"
   ]
  },
  {
   "cell_type": "markdown",
   "id": "2f896878-d477-43eb-b0c7-765870a26556",
   "metadata": {},
   "source": [
    "### Vectorizing the chapter text in the training and test data"
   ]
  },
  {
   "cell_type": "code",
   "execution_count": 20,
   "id": "45bf09bd-ac33-41ec-9549-c4dd939b8b11",
   "metadata": {},
   "outputs": [
    {
     "data": {
      "text/plain": [
       "(gensim.models.doc2vec.Doc2Vec, gensim.models.doc2vec.TaggedDocument)"
      ]
     },
     "execution_count": 20,
     "metadata": {},
     "output_type": "execute_result"
    }
   ],
   "source": [
    "def vec_for_learning(model, tagged_docs):\n",
    "    \"\"\"\n",
    "    Uses the trained doc2vec model to map each tagged document in tagged_docs to a vector\n",
    "    \n",
    "    Parameters:\n",
    "    gensim.models.doc2vec.Doc2Vec model: Trained Doc2Vec model\n",
    "    pandas.core.series.Series (or other iterable) tagged_docs: iterable of gensim.models.doc2vec.TaggedDocument objects\n",
    "    \n",
    "    Return:\n",
    "    Tuple targets: Target Value (Book number, integer) for the document, taken from the document tag\n",
    "    Tuple regressors: Tuple containing np.ndarray representing vectorized document\n",
    "    \"\"\"\n",
    "    sentences = tagged_docs.values\n",
    "    targets, regressors = zip(*[(doc.tags[0], model.infer_vector(doc.words, epochs=20)) for doc in sentences])\n",
    "    return targets, regressors\n",
    "\n",
    "#Data types of function parameters\n",
    "type(dbow_model),type(train_tagged[0])"
   ]
  },
  {
   "cell_type": "code",
   "execution_count": 21,
   "id": "682373d2-a0d6-4180-b5d6-fb406df271e6",
   "metadata": {},
   "outputs": [],
   "source": [
    "#splititng the training and test data into target variables and vectorized documents\n",
    "y_train, X_train = vec_for_learning(dbow_model, train_tagged)\n",
    "y_test, X_test = vec_for_learning(dbow_model, test_tagged)"
   ]
  },
  {
   "cell_type": "code",
   "execution_count": 22,
   "id": "9fb83845-5227-487f-8106-308ff9dfd5c9",
   "metadata": {},
   "outputs": [
    {
     "data": {
      "text/plain": [
       "(100,)"
      ]
     },
     "execution_count": 22,
     "metadata": {},
     "output_type": "execute_result"
    }
   ],
   "source": [
    "#100 dimension vector\n",
    "X_train[0].shape"
   ]
  },
  {
   "cell_type": "markdown",
   "id": "aede0b41-d45c-49ab-87b0-3e2b1e3ae2b5",
   "metadata": {},
   "source": [
    "## 5) Classification Models\n",
    "---"
   ]
  },
  {
   "cell_type": "markdown",
   "id": "c85a2fe0-c329-45fa-aaa0-2f5e34f5353d",
   "metadata": {},
   "source": [
    "#### The notebook output is starting to get long from all of the different confusion matricies, im implementing another task in the performance function which assigns the model name and its test f1 score to a dictionary of f1_scores to faciliate model comparisons."
   ]
  },
  {
   "cell_type": "code",
   "execution_count": 23,
   "id": "2549c15c-8773-4507-9179-688c962b2dfa",
   "metadata": {},
   "outputs": [],
   "source": [
    "f1_scores = {}"
   ]
  },
  {
   "cell_type": "markdown",
   "id": "b25f601d-ec6f-4ed2-98e9-3f0217098434",
   "metadata": {},
   "source": [
    "### Model Performance Display Function"
   ]
  },
  {
   "cell_type": "code",
   "execution_count": 24,
   "id": "6c6cdad8-51a2-4815-99a9-223dbf0a3f87",
   "metadata": {},
   "outputs": [],
   "source": [
    "def performance(model):\n",
    "    \"\"\"\n",
    "    Takes in an Sklearn model and displays various performance metrics including a Confusion Matrix\n",
    "    \n",
    "    Paramaters:\n",
    "    model: Sklearn model\n",
    "    \"\"\"\n",
    "    model_name = str(model.__class__.__name__)\n",
    "    train_preds = model.predict(X_train)\n",
    "    test_preds = model.predict(X_test)\n",
    "    \n",
    "    f1_scores[model_name] = float('{:.4f}'.format(f1_score(y_test, test_preds, average='weighted')))\n",
    "    \n",
    "    # Score Displays\n",
    "    print(\"_________________________________\")\n",
    "    print(\"Model Type: \" + model_name)\n",
    "    print(\"Evaluating Model Performance...\\n\")\n",
    "    print('Train accuracy score:', accuracy_score(y_train, train_preds))\n",
    "    print('Test accuracy score:', accuracy_score(y_test, test_preds),'\\n')\n",
    "    print('Train F1 score:', '{:.4f}'.format(f1_score(y_train, train_preds, average='weighted')))\n",
    "    print('Test F1 score:', '{:.4f}'.format(f1_score(y_test, test_preds, average='weighted')))\n",
    "    print(\"_________________________________\")\n",
    "    \n",
    "    # Confusion Matrix\n",
    "    plt.figure();\n",
    "    ConfusionMatrixDisplay.from_estimator(model,X_test,y_test,cmap='Reds');\n",
    "    plt.title(f'Confusion Matrix for {model_name}');\n",
    "    plt.savefig(f'../visualizations/{model_name}.png')\n",
    "    plt.show();\n",
    "    pass"
   ]
  },
  {
   "cell_type": "markdown",
   "id": "1884cd73-2a10-430d-bf3e-bed4d85fca15",
   "metadata": {},
   "source": [
    "### Fitting various classification models and running the performance function on each to determine which one classifies chapters the most accurately."
   ]
  },
  {
   "cell_type": "code",
   "execution_count": 25,
   "id": "38c271f4-1147-4b36-921b-074648724504",
   "metadata": {},
   "outputs": [
    {
     "name": "stdout",
     "output_type": "stream",
     "text": [
      "_________________________________\n",
      "Model Type: LogisticRegression\n",
      "Evaluating Model Performance...\n",
      "\n",
      "Train accuracy score: 0.31543624161073824\n",
      "Test accuracy score: 0.24 \n",
      "\n",
      "Train F1 score: 0.2278\n",
      "Test F1 score: 0.1762\n",
      "_________________________________\n"
     ]
    },
    {
     "data": {
      "text/plain": [
       "<Figure size 432x288 with 0 Axes>"
      ]
     },
     "metadata": {},
     "output_type": "display_data"
    },
    {
     "data": {
      "image/png": "[encoded data removed]",
      "text/plain": [
       "<Figure size 432x288 with 2 Axes>"
      ]
     },
     "metadata": {
      "needs_background": "light"
     },
     "output_type": "display_data"
    }
   ],
   "source": [
    "logreg = LogisticRegression(n_jobs=-1,C=0.0001,random_state=42)\n",
    "logreg.fit(X_train, y_train)\n",
    "performance(logreg)"
   ]
  },
  {
   "cell_type": "code",
   "execution_count": 26,
   "id": "3feb8cc8-eaa0-4d82-940d-d246e6e7b4d3",
   "metadata": {},
   "outputs": [
    {
     "name": "stdout",
     "output_type": "stream",
     "text": [
      "_________________________________\n",
      "Model Type: SVC\n",
      "Evaluating Model Performance...\n",
      "\n",
      "Train accuracy score: 0.3087248322147651\n",
      "Test accuracy score: 0.22 \n",
      "\n",
      "Train F1 score: 0.2221\n",
      "Test F1 score: 0.1811\n",
      "_________________________________\n"
     ]
    },
    {
     "data": {
      "text/plain": [
       "<Figure size 432x288 with 0 Axes>"
      ]
     },
     "metadata": {},
     "output_type": "display_data"
    },
    {
     "data": {
      "image/png": "[encoded data removed]",
      "text/plain": [
       "<Figure size 432x288 with 2 Axes>"
      ]
     },
     "metadata": {
      "needs_background": "light"
     },
     "output_type": "display_data"
    }
   ],
   "source": [
    "svc = SVC(random_state=42)\n",
    "svc.fit(X_train, y_train)\n",
    "performance(svc)"
   ]
  },
  {
   "cell_type": "code",
   "execution_count": 27,
   "id": "7d109fcd-d6f6-461b-be91-118c057b55b8",
   "metadata": {},
   "outputs": [
    {
     "name": "stdout",
     "output_type": "stream",
     "text": [
      "_________________________________\n",
      "Model Type: KNeighborsClassifier\n",
      "Evaluating Model Performance...\n",
      "\n",
      "Train accuracy score: 0.3288590604026846\n",
      "Test accuracy score: 0.3 \n",
      "\n",
      "Train F1 score: 0.3070\n",
      "Test F1 score: 0.2899\n",
      "_________________________________\n"
     ]
    },
    {
     "data": {
      "text/plain": [
       "<Figure size 432x288 with 0 Axes>"
      ]
     },
     "metadata": {},
     "output_type": "display_data"
    },
    {
     "data": {
      "image/png": "[encoded data removed]",
      "text/plain": [
       "<Figure size 432x288 with 2 Axes>"
      ]
     },
     "metadata": {
      "needs_background": "light"
     },
     "output_type": "display_data"
    }
   ],
   "source": [
    "knn_class = KNeighborsClassifier(n_neighbors=10)\n",
    "knn_class.fit(X_train, y_train)\n",
    "performance(knn_class)"
   ]
  },
  {
   "cell_type": "code",
   "execution_count": 28,
   "id": "a6e1f6c1-f41f-466b-9d94-fc45af734b97",
   "metadata": {},
   "outputs": [
    {
     "name": "stdout",
     "output_type": "stream",
     "text": [
      "_________________________________\n",
      "Model Type: DecisionTreeClassifier\n",
      "Evaluating Model Performance...\n",
      "\n",
      "Train accuracy score: 1.0\n",
      "Test accuracy score: 0.14 \n",
      "\n",
      "Train F1 score: 1.0000\n",
      "Test F1 score: 0.1328\n",
      "_________________________________\n"
     ]
    },
    {
     "data": {
      "text/plain": [
       "<Figure size 432x288 with 0 Axes>"
      ]
     },
     "metadata": {},
     "output_type": "display_data"
    },
    {
     "data": {
      "image/png": "[encoded data removed]",
      "text/plain": [
       "<Figure size 432x288 with 2 Axes>"
      ]
     },
     "metadata": {
      "needs_background": "light"
     },
     "output_type": "display_data"
    }
   ],
   "source": [
    "cart_class = DecisionTreeClassifier(random_state=42)\n",
    "cart_class.fit(X_train, y_train)\n",
    "performance(cart_class)"
   ]
  },
  {
   "cell_type": "code",
   "execution_count": 29,
   "id": "6b9361a5-a267-41d1-be5a-4c89312e0432",
   "metadata": {},
   "outputs": [
    {
     "name": "stdout",
     "output_type": "stream",
     "text": [
      "_________________________________\n",
      "Model Type: BaggingClassifier\n",
      "Evaluating Model Performance...\n",
      "\n",
      "Train accuracy score: 0.9798657718120806\n",
      "Test accuracy score: 0.2 \n",
      "\n",
      "Train F1 score: 0.9799\n",
      "Test F1 score: 0.1885\n",
      "_________________________________\n"
     ]
    },
    {
     "data": {
      "text/plain": [
       "<Figure size 432x288 with 0 Axes>"
      ]
     },
     "metadata": {},
     "output_type": "display_data"
    },
    {
     "data": {
      "image/png": "[encoded data removed]",
      "text/plain": [
       "<Figure size 432x288 with 2 Axes>"
      ]
     },
     "metadata": {
      "needs_background": "light"
     },
     "output_type": "display_data"
    }
   ],
   "source": [
    "bagged_class = BaggingClassifier(random_state=42)\n",
    "bagged_class.fit(X_train, y_train)\n",
    "performance(bagged_class)"
   ]
  },
  {
   "cell_type": "code",
   "execution_count": 30,
   "id": "e2c160a0-9331-4295-b83e-716461db5134",
   "metadata": {},
   "outputs": [
    {
     "name": "stdout",
     "output_type": "stream",
     "text": [
      "_________________________________\n",
      "Model Type: RandomForestClassifier\n",
      "Evaluating Model Performance...\n",
      "\n",
      "Train accuracy score: 1.0\n",
      "Test accuracy score: 0.26 \n",
      "\n",
      "Train F1 score: 1.0000\n",
      "Test F1 score: 0.2330\n",
      "_________________________________\n"
     ]
    },
    {
     "data": {
      "text/plain": [
       "<Figure size 432x288 with 0 Axes>"
      ]
     },
     "metadata": {},
     "output_type": "display_data"
    },
    {
     "data": {
      "image/png": "[encoded data removed]",
      "text/plain": [
       "<Figure size 432x288 with 2 Axes>"
      ]
     },
     "metadata": {
      "needs_background": "light"
     },
     "output_type": "display_data"
    }
   ],
   "source": [
    "random_forest_class = RandomForestClassifier(random_state=42)\n",
    "random_forest_class.fit(X_train, y_train)\n",
    "performance(random_forest_class)"
   ]
  },
  {
   "cell_type": "code",
   "execution_count": 31,
   "id": "f7182969-e0e1-492d-a272-4fec403118e2",
   "metadata": {},
   "outputs": [
    {
     "name": "stdout",
     "output_type": "stream",
     "text": [
      "_________________________________\n",
      "Model Type: AdaBoostClassifier\n",
      "Evaluating Model Performance...\n",
      "\n",
      "Train accuracy score: 0.348993288590604\n",
      "Test accuracy score: 0.16 \n",
      "\n",
      "Train F1 score: 0.3434\n",
      "Test F1 score: 0.1479\n",
      "_________________________________\n"
     ]
    },
    {
     "data": {
      "text/plain": [
       "<Figure size 432x288 with 0 Axes>"
      ]
     },
     "metadata": {},
     "output_type": "display_data"
    },
    {
     "data": {
      "image/png": "[encoded data removed]",
      "text/plain": [
       "<Figure size 432x288 with 2 Axes>"
      ]
     },
     "metadata": {
      "needs_background": "light"
     },
     "output_type": "display_data"
    }
   ],
   "source": [
    "adaboost_class = AdaBoostClassifier(random_state=42)\n",
    "adaboost_class.fit(X_train, y_train)\n",
    "performance(adaboost_class)"
   ]
  },
  {
   "cell_type": "code",
   "execution_count": 32,
   "id": "84c9005f-3f6c-4491-8a36-989524e87304",
   "metadata": {},
   "outputs": [
    {
     "name": "stdout",
     "output_type": "stream",
     "text": [
      "_________________________________\n",
      "Model Type: ExtraTreesClassifier\n",
      "Evaluating Model Performance...\n",
      "\n",
      "Train accuracy score: 1.0\n",
      "Test accuracy score: 0.26 \n",
      "\n",
      "Train F1 score: 1.0000\n",
      "Test F1 score: 0.2405\n",
      "_________________________________\n"
     ]
    },
    {
     "data": {
      "text/plain": [
       "<Figure size 432x288 with 0 Axes>"
      ]
     },
     "metadata": {},
     "output_type": "display_data"
    },
    {
     "data": {
      "image/png": "[encoded data removed]",
      "text/plain": [
       "<Figure size 432x288 with 2 Axes>"
      ]
     },
     "metadata": {
      "needs_background": "light"
     },
     "output_type": "display_data"
    }
   ],
   "source": [
    "etc = ExtraTreesClassifier()\n",
    "etc.fit(X_train, y_train)\n",
    "performance(etc)"
   ]
  },
  {
   "cell_type": "code",
   "execution_count": 33,
   "id": "911d6332-a2d3-4bb8-9d72-5bc9c95bfba6",
   "metadata": {},
   "outputs": [
    {
     "name": "stdout",
     "output_type": "stream",
     "text": [
      "_________________________________\n",
      "Model Type: GaussianNB\n",
      "Evaluating Model Performance...\n",
      "\n",
      "Train accuracy score: 0.5771812080536913\n",
      "Test accuracy score: 0.14 \n",
      "\n",
      "Train F1 score: 0.5720\n",
      "Test F1 score: 0.1369\n",
      "_________________________________\n"
     ]
    },
    {
     "data": {
      "text/plain": [
       "<Figure size 432x288 with 0 Axes>"
      ]
     },
     "metadata": {},
     "output_type": "display_data"
    },
    {
     "data": {
      "image/png": "[encoded data removed]",
      "text/plain": [
       "<Figure size 432x288 with 2 Axes>"
      ]
     },
     "metadata": {
      "needs_background": "light"
     },
     "output_type": "display_data"
    }
   ],
   "source": [
    "gnb = GaussianNB()\n",
    "gnb.fit(X_train, y_train)\n",
    "performance(gnb)"
   ]
  },
  {
   "cell_type": "markdown",
   "id": "ae7f8ffd-8444-4961-92ec-e6da00842762",
   "metadata": {},
   "source": [
    "### Displaying a list of F1 Scores using the test data"
   ]
  },
  {
   "cell_type": "code",
   "execution_count": 34,
   "id": "e81c4974-9129-4b1a-87c8-58a23109129b",
   "metadata": {},
   "outputs": [
    {
     "data": {
      "text/plain": [
       "{'LogisticRegression': 0.1762,\n",
       " 'SVC': 0.1811,\n",
       " 'KNeighborsClassifier': 0.2899,\n",
       " 'DecisionTreeClassifier': 0.1328,\n",
       " 'BaggingClassifier': 0.1885,\n",
       " 'RandomForestClassifier': 0.233,\n",
       " 'AdaBoostClassifier': 0.1479,\n",
       " 'ExtraTreesClassifier': 0.2405,\n",
       " 'GaussianNB': 0.1369}"
      ]
     },
     "execution_count": 34,
     "metadata": {},
     "output_type": "execute_result"
    }
   ],
   "source": [
    "import json\n",
    "with open(\"../visualizations/f1_scores.json\", \"w\") as json_file:\n",
    "  json.dump(f1_scores, json_file)\n",
    "json_file.close()\n",
    "f1_scores"
   ]
  },
  {
   "cell_type": "markdown",
   "id": "c7a1763a-fac6-4dad-9fbb-f37b5c9c825d",
   "metadata": {},
   "source": [
    "### Text Prediction Function (To be implemented as an app)"
   ]
  },
  {
   "cell_type": "code",
   "execution_count": 35,
   "id": "8c2bb742-3577-4242-a649-cb9feefd8c68",
   "metadata": {},
   "outputs": [],
   "source": [
    "def predict_book(model,text):\n",
    "    \"\"\"\n",
    "    Takes in a Sklearn model and any size string\n",
    "    Tokenizes and vectorizes string\n",
    "    Predicts which book the text is most likely to be in based on\n",
    "    the vector created from the distributed bag of words model\n",
    "    \n",
    "    Parameters:\n",
    "    Sklearn Model: model\n",
    "    String: text\n",
    "    \n",
    "    returns: Book Number Prediction\n",
    "    \"\"\"\n",
    "    tokens = tokenize_text(text)\n",
    "    prediction = model.predict((dbow_model.infer_vector(tokens,epochs=20),))\n",
    "    return prediction[0]"
   ]
  },
  {
   "cell_type": "code",
   "execution_count": 38,
   "id": "46fc5d1c-b0f0-4452-8c79-8ef909115308",
   "metadata": {},
   "outputs": [
    {
     "data": {
      "text/plain": [
       "4"
      ]
     },
     "execution_count": 38,
     "metadata": {},
     "output_type": "execute_result"
    }
   ],
   "source": [
    "#Example\n",
    "predict_book(knn_class,\"The goblet of fire\")"
   ]
  },
  {
   "cell_type": "markdown",
   "id": "88abee10-bed0-4a49-b470-41949072cc56",
   "metadata": {},
   "source": [
    "### Bonus: Similarity Score Analysis with the Doc2Vec Model"
   ]
  },
  {
   "cell_type": "code",
   "execution_count": 40,
   "id": "bd0d386b-f60d-42bf-8945-0887c21317ec",
   "metadata": {},
   "outputs": [
    {
     "name": "stdout",
     "output_type": "stream",
     "text": [
      "The book most similar to Book 1 is Book 4 with a similarity score of 0.8966854810714722\n",
      "The book most similar to Book 2 is Book 7 with a similarity score of 0.9074156284332275\n",
      "The book most similar to Book 3 is Book 6 with a similarity score of 0.9286062717437744\n",
      "The book most similar to Book 4 is Book 7 with a similarity score of 0.9340763688087463\n",
      "The book most similar to Book 5 is Book 7 with a similarity score of 0.9393233060836792\n",
      "The book most similar to Book 6 is Book 5 with a similarity score of 0.9291275143623352\n",
      "The book most similar to Book 7 is Book 5 with a similarity score of 0.9393232464790344\n"
     ]
    }
   ],
   "source": [
    "#Returns top similarity score for each book\n",
    "for i in range(1,8):\n",
    "    sim = dbow_model.dv.most_similar(positive=i)[0]\n",
    "    print(f\"The book most similar to Book {i} is Book {sim[0]} with a similarity score of {sim[1]}\", )"
   ]
  },
  {
   "cell_type": "code",
   "execution_count": null,
   "id": "390285b9-ab59-42f1-894c-b50970ebaf73",
   "metadata": {},
   "outputs": [],
   "source": []
  }
 ],
 "metadata": {
  "kernelspec": {
   "display_name": "Python 3 (ipykernel)",
   "language": "python",
   "name": "python3"
  },
  "language_info": {
   "codemirror_mode": {
    "name": "ipython",
    "version": 3
   },
   "file_extension": ".py",
   "mimetype": "text/x-python",
   "name": "python",
   "nbconvert_exporter": "python",
   "pygments_lexer": "ipython3",
   "version": "3.9.12"
  }
 },
 "nbformat": 4,
 "nbformat_minor": 5
}
