{
 "cells": [
  {
   "cell_type": "markdown",
   "id": "4ebed5f7-4ecc-4457-80c5-6aa0c4d23c41",
   "metadata": {},
   "source": [
    "# Preprocessing, text cleaning, and preliminary EDA\n",
    "---"
   ]
  },
  {
   "cell_type": "markdown",
   "id": "5b14094a-e23c-4cde-adfd-7920f6edaf6b",
   "metadata": {},
   "source": [
    "## 1) Imports"
   ]
  },
  {
   "cell_type": "code",
   "execution_count": 1,
   "id": "55dabfc1-9e8a-450c-9be7-ee054ac7ee67",
   "metadata": {},
   "outputs": [],
   "source": [
    "import numpy as np\n",
    "import pandas as pd\n",
    "import matplotlib.pyplot as plt\n",
    "import seaborn as sns"
   ]
  },
  {
   "cell_type": "markdown",
   "id": "6c6c75fd-b931-471c-a644-358940cb8a61",
   "metadata": {},
   "source": [
    "## 2) Text Importing"
   ]
  },
  {
   "cell_type": "code",
   "execution_count": 2,
   "id": "eed0e4de-54ea-4002-b51e-290a99f27dd5",
   "metadata": {},
   "outputs": [],
   "source": [
    "pd.set_option('display.max_colwidth', 255)"
   ]
  },
  {
   "cell_type": "markdown",
   "id": "503e19e8-b876-4592-b906-7b2bc490fb80",
   "metadata": {},
   "source": [
    "#### Pandas refuses to allow me to set \\n as the deliminator for lines and treats the .txt files as a csv, establishing lines using commas. Until I figure out a way to make the pandas import play nicely, I'm importing the old fashioned way."
   ]
  },
  {
   "cell_type": "code",
   "execution_count": 3,
   "id": "5a43af2e-5f97-4f2a-8d55-9b043148df85",
   "metadata": {},
   "outputs": [],
   "source": [
    "book = {}\n",
    "for i in range(1,8): #Putting all 7 books into dataframes stored within a dictionary for intuitive key reference\n",
    "    with open(f'../corpora/Book{i}.txt') as book_file:\n",
    "        lines = book_file.read()\n",
    "    book_file.close()\n",
    "    \n",
    "    book_lines = lines.split('\\n')\n",
    "    book_data_frame = pd.DataFrame(data = book_lines)\n",
    "    book_data_frame.columns = ['line']\n",
    "    book[i] = book_data_frame"
   ]
  },
  {
   "cell_type": "markdown",
   "id": "5606837d-d4ff-4acb-aad0-c3a10e553de9",
   "metadata": {},
   "source": [
    "#### What I would normally use."
   ]
  },
  {
   "cell_type": "code",
   "execution_count": 4,
   "id": "5de0360c-dd57-4962-8e76-270e9cddab7c",
   "metadata": {},
   "outputs": [],
   "source": [
    "#book1 = pd.read_table(\"../corpora/Book1.txt\",sep='\\n')\n",
    "#book1.columns = ['line']"
   ]
  },
  {
   "cell_type": "markdown",
   "id": "e8c8bc71-6d13-4e7b-baff-948bd357a534",
   "metadata": {},
   "source": [
    "## 3) Exploring Data Structure"
   ]
  },
  {
   "cell_type": "code",
   "execution_count": 5,
   "id": "a34d7d20-4a0e-430e-96c3-924cbd8ab44d",
   "metadata": {},
   "outputs": [
    {
     "data": {
      "text/html": [
       "<div>\n",
       "<style scoped>\n",
       "    .dataframe tbody tr th:only-of-type {\n",
       "        vertical-align: middle;\n",
       "    }\n",
       "\n",
       "    .dataframe tbody tr th {\n",
       "        vertical-align: top;\n",
       "    }\n",
       "\n",
       "    .dataframe thead th {\n",
       "        text-align: right;\n",
       "    }\n",
       "</style>\n",
       "<table border=\"1\" class=\"dataframe\">\n",
       "  <thead>\n",
       "    <tr style=\"text-align: right;\">\n",
       "      <th></th>\n",
       "      <th>line</th>\n",
       "    </tr>\n",
       "  </thead>\n",
       "  <tbody>\n",
       "    <tr>\n",
       "      <th>count</th>\n",
       "      <td>15261</td>\n",
       "    </tr>\n",
       "    <tr>\n",
       "      <th>unique</th>\n",
       "      <td>10077</td>\n",
       "    </tr>\n",
       "    <tr>\n",
       "      <th>top</th>\n",
       "      <td></td>\n",
       "    </tr>\n",
       "    <tr>\n",
       "      <th>freq</th>\n",
       "      <td>5117</td>\n",
       "    </tr>\n",
       "  </tbody>\n",
       "</table>\n",
       "</div>"
      ],
      "text/plain": [
       "         line\n",
       "count   15261\n",
       "unique  10077\n",
       "top          \n",
       "freq     5117"
      ]
     },
     "execution_count": 5,
     "metadata": {},
     "output_type": "execute_result"
    }
   ],
   "source": [
    "book[1].describe()"
   ]
  },
  {
   "cell_type": "code",
   "execution_count": 6,
   "id": "3edfa0d5-bab1-4a99-8bf0-50f38678e1df",
   "metadata": {},
   "outputs": [
    {
     "data": {
      "text/plain": [
       "                 5117\n",
       "“What?”             5\n",
       "it?”                4\n",
       "Hermione.           4\n",
       "•k k k              3\n",
       "them.               3\n",
       "Gryffindor.”        3\n",
       "again.              3\n",
       "there.”             2\n",
       "Harry.              2\n",
       "Name: line, dtype: int64"
      ]
     },
     "execution_count": 6,
     "metadata": {},
     "output_type": "execute_result"
    }
   ],
   "source": [
    "#Duplicate lines, most of them blank spaces\n",
    "book[1]['line'].value_counts().head(10)"
   ]
  },
  {
   "cell_type": "code",
   "execution_count": 7,
   "id": "f0530b2a-771f-447e-acb8-73aa1222f0a1",
   "metadata": {},
   "outputs": [
    {
     "data": {
      "text/plain": [
       "[(15261, 1),\n",
       " (16761, 1),\n",
       " (21506, 1),\n",
       " (37545, 1),\n",
       " (49466, 1),\n",
       " (32393, 1),\n",
       " (38110, 1)]"
      ]
     },
     "execution_count": 7,
     "metadata": {},
     "output_type": "execute_result"
    }
   ],
   "source": [
    "#Line count of each book file\n",
    "[book[key].shape for key in book]"
   ]
  },
  {
   "cell_type": "code",
   "execution_count": 8,
   "id": "1c5e4f48-4bd2-499d-bbe3-cd7e71554bc2",
   "metadata": {},
   "outputs": [
    {
     "data": {
      "text/plain": [
       "(['Mr.',\n",
       "  'and',\n",
       "  'Mrs.',\n",
       "  'Dursley,',\n",
       "  'of',\n",
       "  'number',\n",
       "  'four,',\n",
       "  'Privet',\n",
       "  'Drive,'],\n",
       " 9)"
      ]
     },
     "execution_count": 8,
     "metadata": {},
     "output_type": "execute_result"
    }
   ],
   "source": [
    "#Displaying a line as a list of words, easy to reference its word count\n",
    "example_line = book[1]['line'].iloc[7].split()\n",
    "example_line,len(example_line)"
   ]
  },
  {
   "cell_type": "markdown",
   "id": "d7a610e2-e5c2-4ae9-b0be-6328e8fadefd",
   "metadata": {},
   "source": [
    "## 4) Preliminary Text Cleaning"
   ]
  },
  {
   "cell_type": "markdown",
   "id": "9da0f76b-32cc-4f12-ade7-ead19bc2ef82",
   "metadata": {},
   "source": [
    "#### Lots of empty lines in the text files from paragraph spacing and spaces, going to trim any line that only contains blank space"
   ]
  },
  {
   "cell_type": "code",
   "execution_count": 9,
   "id": "64e43ae2-f2d8-4a51-8128-27d7f8b2d54e",
   "metadata": {},
   "outputs": [
    {
     "data": {
      "text/plain": [
       "[5117, 5509, 7114, 12293, 15583, 10122, 12133]"
      ]
     },
     "execution_count": 9,
     "metadata": {},
     "output_type": "execute_result"
    }
   ],
   "source": [
    "[(book[i]['line'] == '').sum() for i in range(1,8)]"
   ]
  },
  {
   "cell_type": "code",
   "execution_count": 10,
   "id": "d8edefc0-73ba-41fb-8b09-9541bdc47dcd",
   "metadata": {},
   "outputs": [],
   "source": [
    "def drop_empty_lines(key):\n",
    "    \"\"\"\n",
    "    Takes in an dictionary key (integer) intended for the dictionary containing\n",
    "    each book data frame and replaces every blank line in the referenced book\n",
    "    with a numpy null value, so that they can be dropped from the data frame.\n",
    "    \"\"\"\n",
    "    book[key] = book[key].applymap((lambda x:np.nan if x=='' else x))\n",
    "    book[key].dropna(inplace=True)\n",
    "    book[key].reset_index(drop=True,inplace=True)\n",
    "    pass"
   ]
  },
  {
   "cell_type": "code",
   "execution_count": 11,
   "id": "d5c56dba-0e69-4bef-9ff9-d3b83b5a9cee",
   "metadata": {},
   "outputs": [
    {
     "data": {
      "text/plain": [
       "[None, None, None, None, None, None, None]"
      ]
     },
     "execution_count": 11,
     "metadata": {},
     "output_type": "execute_result"
    }
   ],
   "source": [
    "#Applying function to all 7 books\n",
    "[drop_empty_lines(key) for key in book]"
   ]
  },
  {
   "cell_type": "code",
   "execution_count": 12,
   "id": "aff5db83-79a4-46cb-a067-aef6c21dd3a2",
   "metadata": {},
   "outputs": [
    {
     "data": {
      "text/plain": [
       "[(10144, 1),\n",
       " (11252, 1),\n",
       " (14392, 1),\n",
       " (25252, 1),\n",
       " (33883, 1),\n",
       " (22271, 1),\n",
       " (25977, 1)]"
      ]
     },
     "execution_count": 12,
     "metadata": {},
     "output_type": "execute_result"
    }
   ],
   "source": [
    "#New line count of each book file\n",
    "[book[key].shape for key in book]"
   ]
  },
  {
   "cell_type": "markdown",
   "id": "8e2bd756-5e51-46ed-833a-13ebe3f4b0d8",
   "metadata": {},
   "source": [
    "## 5) Determining Chapter Breaks in Each Book"
   ]
  },
  {
   "cell_type": "code",
   "execution_count": 13,
   "id": "a61b45f7-bcdb-4b75-8b5f-5a8b926a274b",
   "metadata": {},
   "outputs": [
    {
     "data": {
      "text/plain": [
       "('THE BOY WHO LIVED ', True)"
      ]
     },
     "execution_count": 13,
     "metadata": {},
     "output_type": "execute_result"
    }
   ],
   "source": [
    "#Chapter titles are not numbered but appear to be all caps\n",
    "book[1]['line'].iloc[1],book[1]['line'].iloc[1].isupper()"
   ]
  },
  {
   "cell_type": "markdown",
   "id": "2db51704-aa5f-49e1-b808-3dab7c9b1008",
   "metadata": {},
   "source": [
    "#### Filtering lines to those where every alphabetical character is capitalized identifies all of the chapter titles, but it also includes lines from singular statements that happen to be written in all-caps. A couple chapters with longer titles take up 2 lines, these will need to be compressed into 1 line. Manual identification is needed, which is not too problematic as the chapters are limited.\n",
    "#### Chapter names obtained from the fan driven Harry Potter wiki on [Fandom](https://harrypotter.fandom.com/wiki/List_of_chapters_in_the_Harry_Potter_books#Harry_Potter_and_the_Philosopher's_Stone_(23_June_1991–20_June_1992))"
   ]
  },
  {
   "cell_type": "code",
   "execution_count": 14,
   "id": "531c18c6-7038-415e-b6ef-59f1b9e8b42f",
   "metadata": {},
   "outputs": [
    {
     "data": {
      "text/html": [
       "<div>\n",
       "<style scoped>\n",
       "    .dataframe tbody tr th:only-of-type {\n",
       "        vertical-align: middle;\n",
       "    }\n",
       "\n",
       "    .dataframe tbody tr th {\n",
       "        vertical-align: top;\n",
       "    }\n",
       "\n",
       "    .dataframe thead th {\n",
       "        text-align: right;\n",
       "    }\n",
       "</style>\n",
       "<table border=\"1\" class=\"dataframe\">\n",
       "  <thead>\n",
       "    <tr style=\"text-align: right;\">\n",
       "      <th></th>\n",
       "      <th>line</th>\n",
       "    </tr>\n",
       "  </thead>\n",
       "  <tbody>\n",
       "    <tr>\n",
       "      <th>1</th>\n",
       "      <td>THE BOY WHO LIVED</td>\n",
       "    </tr>\n",
       "    <tr>\n",
       "      <th>569</th>\n",
       "      <td>THE VANASHIG GLASS</td>\n",
       "    </tr>\n",
       "    <tr>\n",
       "      <th>833</th>\n",
       "      <td>“MOTORCYCLES DONT FLY!”</td>\n",
       "    </tr>\n",
       "    <tr>\n",
       "      <th>918</th>\n",
       "      <td>MR. DURSLEY! COME AND LOOK AT THIS SNAKE!</td>\n",
       "    </tr>\n",
       "    <tr>\n",
       "      <th>919</th>\n",
       "      <td>YOU WONT BELIEVE WHAT IT’S DOING!”</td>\n",
       "    </tr>\n",
       "  </tbody>\n",
       "</table>\n",
       "</div>"
      ],
      "text/plain": [
       "                                           line\n",
       "1                            THE BOY WHO LIVED \n",
       "569                         THE VANASHIG GLASS \n",
       "833                    “MOTORCYCLES DONT FLY!” \n",
       "918  MR. DURSLEY! COME AND LOOK AT THIS SNAKE! \n",
       "919         YOU WONT BELIEVE WHAT IT’S DOING!” "
      ]
     },
     "execution_count": 14,
     "metadata": {},
     "output_type": "execute_result"
    }
   ],
   "source": [
    "book[1][book[1]['line'].str.isupper()].head()"
   ]
  },
  {
   "cell_type": "code",
   "execution_count": 15,
   "id": "e3cc1569-01d1-4d09-8106-192e5b878b2c",
   "metadata": {},
   "outputs": [],
   "source": [
    "chapters = {} #Dictionary to contain a list of chapter titles for each book\n",
    "chapters_index = {} #Dictionary to contain a list of indices indicating which line each chapter starts on"
   ]
  },
  {
   "cell_type": "markdown",
   "id": "fb2502e3-f50c-4772-b104-67870970fffe",
   "metadata": {},
   "source": [
    "### Manually inputting indices to identify chapter breaks and collect titles and start line indices."
   ]
  },
  {
   "cell_type": "code",
   "execution_count": 16,
   "id": "3144b754-8f70-40a3-88ec-a664605809ec",
   "metadata": {},
   "outputs": [],
   "source": [
    "#Book 1\n",
    "chapters1 = book[1].iloc[[1,569,1000,1497,1975,2859,3691,4283,4669,5331,5892,6333,7038,7462,7914,8570,9425]]\n",
    "chapters[1] = list(chapters1['line'])\n",
    "chapters_index[1] = chapters1"
   ]
  },
  {
   "cell_type": "code",
   "execution_count": 17,
   "id": "e97e4f13-90dd-4669-9d57-8187a00214c1",
   "metadata": {},
   "outputs": [],
   "source": [
    "#Book 2\n",
    "chapters2 = book[2].iloc[[4,340,733,1319,2062,2767,3368,3966,4566,5269,5956,6738,7453,8167,8699,9297,10042,10741]]\n",
    "chapters[2] = list(chapters2['line'])\n",
    "chapters_index[2] = chapters2"
   ]
  },
  {
   "cell_type": "code",
   "execution_count": 18,
   "id": "b5f0eb47-0802-4689-9809-6e5d706da5ed",
   "metadata": {},
   "outputs": [],
   "source": [
    "#Book 3\n",
    "chapters3 = book[3].iloc[[1,472,972,1549,2222,3113,4000,4589,5280,5992,6925,7674,8321,8885,9621,10365,10957,11528,11821,12482,12743,13746]]\n",
    "chapters[3] = list(chapters3['line'])\n",
    "chapters_index[3] = chapters3"
   ]
  },
  {
   "cell_type": "code",
   "execution_count": 19,
   "id": "f41953e8-de6d-401b-98f9-76b286a40ae9",
   "metadata": {},
   "outputs": [],
   "source": [
    "#Book 4\n",
    "chapters4 = book[4].iloc[[1,520,870,1276,1692,2184,2505,3203,3980,4941,5378,5831,6580,7135,7782,8476,9298,9855,10737,11547,\n",
    "                         12454,13197,13796,14876,15721,16453,17490,18404,19406,19991,20836,21862,22125,22644,23017,23770,24585]]\n",
    "chapters[4] = list(chapters4['line'])\n",
    "chapters_index[4] = chapters4"
   ]
  },
  {
   "cell_type": "code",
   "execution_count": 20,
   "id": "49327ff9-eec4-44a9-996d-86403fa4eac3",
   "metadata": {},
   "outputs": [],
   "source": [
    "#Book 5\n",
    "chapters5 = book[5].iloc[[3,756,1592,2282,3048,3776,4658,5264,5836,6903,7689,8498,9640,10781,11840,\n",
    "                          12771,13547,14451, 15373,16253,17057,18011,19056,20019,21084,22128,23236,\n",
    "                          24236,25296,26286,27355,28375,29201,29716,30395,31402,31891,32894]]\n",
    "chapters[5] = list(chapters5['line'])\n",
    "chapters_index[5] = chapters5"
   ]
  },
  {
   "cell_type": "code",
   "execution_count": 21,
   "id": "37768f28-5708-4114-8e8a-5a3772d02ea9",
   "metadata": {},
   "outputs": [],
   "source": [
    "#Book 6\n",
    "chapters6 = book[6].iloc[[2,651,1285,1907,2710,3521,4313,5188,5744,6549,7341,8007,8729,9439,10285,11067,11881,12717,13598,\n",
    "                         14422,15270,16015,16787,17519,18277,18969,19797,20391,20857,21590]]\n",
    "chapters[6] = list(chapters6['line'])\n",
    "chapters_index[6] = chapters6"
   ]
  },
  {
   "cell_type": "code",
   "execution_count": 22,
   "id": "80132b5a-22cd-428b-ad90-95fe1cd421fd",
   "metadata": {},
   "outputs": [],
   "source": [
    "#Book 7\n",
    "chapters7 = book[7].iloc[[2,420,932,1383,2085,2894,3751,4635,5456,5989,6846,7584,8401,9168,9711,10646,11310,12008,12450,\n",
    "                         13303,13899,14532,15293,16356,17231,17799,18678,19006,19576,20168,20834,21891,22596,23694,24184,24830,25749]]\n",
    "chapters[7] = list(chapters7['line'])\n",
    "chapters_index[7] = chapters7"
   ]
  },
  {
   "cell_type": "markdown",
   "id": "3f0a6de0-66ef-4bd9-a603-c78fcefc08bb",
   "metadata": {},
   "source": [
    "#### I was unable to do this automatically as a couple of chapters had typos in them making it risky to compare them to a list of Harry Potter chapters sourced online. Additionally, based on my method of referencing all lines where every letter is capitalized, a few chapters with vague names like \"Gilderoy Lockhart\" had duplicates in non-chapter contexts, making it harder to accurately identify all chapters automatically."
   ]
  },
  {
   "cell_type": "code",
   "execution_count": 23,
   "id": "27cfb116-dc25-4985-b104-fab9c9089849",
   "metadata": {},
   "outputs": [],
   "source": [
    "\"\"\"\n",
    "This is the code I used to reference every potential chapter name in the books, viewing 20 filtered lines at a time.\n",
    "\"\"\"\n",
    "#num = 7 #Book number\n",
    "#book[num][book[num]['line'].str.isupper()].iloc[0:20]\n",
    "pass"
   ]
  },
  {
   "cell_type": "code",
   "execution_count": 24,
   "id": "1a339549-0254-46f2-8e10-b7d9560eca07",
   "metadata": {},
   "outputs": [
    {
     "data": {
      "text/plain": [
       "[17, 18, 22, 37, 38, 30, 37]"
      ]
     },
     "execution_count": 24,
     "metadata": {},
     "output_type": "execute_result"
    }
   ],
   "source": [
    "#Number of chapters in each book from 1 to 7\n",
    "[len(chapters[key]) for key in chapters]"
   ]
  },
  {
   "cell_type": "code",
   "execution_count": 25,
   "id": "76c8b740-e3f0-426f-9c45-0c5de93daf47",
   "metadata": {},
   "outputs": [
    {
     "data": {
      "text/plain": [
       "line    THE MAN WITH TWO FACES \n",
       "Name: 9425, dtype: object"
      ]
     },
     "execution_count": 25,
     "metadata": {},
     "output_type": "execute_result"
    }
   ],
   "source": [
    "#Double checking dictionary\n",
    "chapters1.iloc[16]"
   ]
  },
  {
   "cell_type": "markdown",
   "id": "1ac097d9-8ed0-4bd6-9fe3-7dcb9f74f696",
   "metadata": {},
   "source": [
    "## 6) Preparing Chapter Text Data"
   ]
  },
  {
   "cell_type": "markdown",
   "id": "da5dd6d5-7175-4aaf-8a48-89a4e162dac3",
   "metadata": {},
   "source": [
    "#### Assigning chapter text to a nested dictionary indexed by book number and chapter number"
   ]
  },
  {
   "cell_type": "code",
   "execution_count": 26,
   "id": "867b5a2a-21f0-43e1-9019-2da152a9cae1",
   "metadata": {},
   "outputs": [],
   "source": [
    "chapter_text = {}\n",
    "for n in range(1,8):\n",
    "    chapter_text[n] = {}\n",
    "    for i in range(len(chapters_index[n]['line'])):\n",
    "        start = chapters_index[n].iloc[[i]].index[0]+1\n",
    "        try:\n",
    "            end = chapters_index[n].iloc[[i+1]].index[0]\n",
    "        except:\n",
    "            end = book[n].iloc[[-1]].index[0]\n",
    "        text = ''.join([n for n in book[n]['line'].iloc[start:end]])\n",
    "        chapter_text[n][i+1] = text"
   ]
  },
  {
   "cell_type": "code",
   "execution_count": 27,
   "id": "82e88e23-67f4-4bb4-a9e2-42f3275707a4",
   "metadata": {},
   "outputs": [
    {
     "name": "stdout",
     "output_type": "stream",
     "text": [
      "Book 1 has 17 chapters\n",
      "Book 2 has 18 chapters\n",
      "Book 3 has 22 chapters\n",
      "Book 4 has 37 chapters\n",
      "Book 5 has 38 chapters\n",
      "Book 6 has 30 chapters\n",
      "Book 7 has 37 chapters\n"
     ]
    }
   ],
   "source": [
    "#Confirming number of chapters in each book\n",
    "for key in chapter_text:\n",
    "    print(f\"Book {key} has {len(chapter_text[key])} chapters\")"
   ]
  },
  {
   "cell_type": "markdown",
   "id": "0f5da4a4-76cf-4466-8fd0-91ea6fa9c7d8",
   "metadata": {},
   "source": [
    "#### Writing the chapter_text dictionary to a new Data Frame"
   ]
  },
  {
   "cell_type": "code",
   "execution_count": 28,
   "id": "cb849783-f202-4418-b3e5-6c198c83f78e",
   "metadata": {},
   "outputs": [],
   "source": [
    "chapter_data = [\n",
    "    [book_num,chap,chapter_text[book_num][chap]]\n",
    "    for book_num in chapter_text\n",
    "    for chap in chapter_text[book_num]\n",
    "]\n",
    "chapter_df = pd.DataFrame(data=chapter_data,columns=['book_number','chapter_number','chapter_text'])"
   ]
  },
  {
   "cell_type": "markdown",
   "id": "73684b64-15ca-4a0f-8e59-6546b750ed3e",
   "metadata": {},
   "source": [
    "## 7) Exporting Chapter Data to JSON Files"
   ]
  },
  {
   "cell_type": "markdown",
   "id": "353106d8-6757-47b4-bb57-79bc977e3569",
   "metadata": {},
   "source": [
    "#### Storing chapter text dictionary as a json file"
   ]
  },
  {
   "cell_type": "code",
   "execution_count": 29,
   "id": "92f2196e-66c4-47db-878d-8729e843cb65",
   "metadata": {},
   "outputs": [],
   "source": [
    "import json\n",
    "with open(\"../corpora/chapter_text.json\", \"w\") as json_file:\n",
    "  json.dump(chapter_text, json_file)\n",
    "json_file.close()"
   ]
  },
  {
   "cell_type": "markdown",
   "id": "a866b0d8-163e-4360-b26e-022d459e7db8",
   "metadata": {},
   "source": [
    "#### Assigning chapter titles to a nested dictionary indexed by book number and chapter number and storing it as a json file"
   ]
  },
  {
   "cell_type": "code",
   "execution_count": 30,
   "id": "3cd809a8-de62-4e9e-8c99-1468de41d60c",
   "metadata": {},
   "outputs": [],
   "source": [
    "chapter_titles = {num:{tup[0]+1:tup[1] for tup in enumerate(chapters[num])} for num in range(1,8)}\n",
    "with open(\"../corpora/chapter_titles.json\", \"w\") as json_file:\n",
    "  json.dump(chapter_titles, json_file)\n",
    "json_file.close()"
   ]
  }
 ],
 "metadata": {
  "kernelspec": {
   "display_name": "Python 3 (ipykernel)",
   "language": "python",
   "name": "python3"
  },
  "language_info": {
   "codemirror_mode": {
    "name": "ipython",
    "version": 3
   },
   "file_extension": ".py",
   "mimetype": "text/x-python",
   "name": "python",
   "nbconvert_exporter": "python",
   "pygments_lexer": "ipython3",
   "version": "3.9.12"
  }
 },
 "nbformat": 4,
 "nbformat_minor": 5
}
